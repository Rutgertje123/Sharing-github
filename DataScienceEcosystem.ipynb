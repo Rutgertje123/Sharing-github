{
 "cells": [
  {
   "cell_type": "markdown",
   "id": "750f4086-ff54-4fac-aeb6-cc27bce316f9",
   "metadata": {},
   "source": [
    "# Data Science Tools and Ecosystem\n",
    "\n"
   ]
  },
  {
   "cell_type": "markdown",
   "id": "231eca7f-ffbf-4798-840d-ee0cc7dd8799",
   "metadata": {
    "tags": []
   },
   "source": [
    "In this notebook, Data Science Tools and Ecosystem are summarized."
   ]
  },
  {
   "cell_type": "markdown",
   "id": "bc65a36d-f4eb-4dea-8cb0-9633f0f81e3b",
   "metadata": {
    "tags": []
   },
   "source": [
    "** Objectives: **\n",
    "\n",
    "- List popular languages for Data Science.\n",
    "- List some of the commonly used libraries in Data Science.\n",
    "- List 3 important Data Science Tools.\n",
    "- Create a few examples of evaluating arithmetic expressions in Python."
   ]
  },
  {
   "cell_type": "markdown",
   "id": "cacc7f2f-7352-4e99-9699-7bbaa996dbfe",
   "metadata": {},
   "source": [
    "Some of the popular languages that Data Scientists use are:\n",
    "1. Python\n",
    "2. R\n",
    "3. SQL\n"
   ]
  },
  {
   "cell_type": "markdown",
   "id": "ab1d5228-5ceb-407b-a8e2-0a758f978588",
   "metadata": {},
   "source": [
    "Some of the commonly used libraries used by Data Scientists include:\n",
    "1. NumPy\n",
    "2. Pandas\n",
    "3. Matplotlib\n",
    "4. Scikit-learn\n"
   ]
  },
  {
   "cell_type": "markdown",
   "id": "6398c6bb-63c9-441b-a95e-cbc47e11eeeb",
   "metadata": {
    "tags": []
   },
   "source": [
    "| Data Science Tools |\n",
    "| --- | \n",
    "| Jupyter Notebook | \n",
    "| RStudio |\n",
    "| Visual Studio Code (VSCode) | "
   ]
  },
  {
   "cell_type": "markdown",
   "id": "b1cb0a2c-79b5-4fe6-91fd-8b63c372d0a6",
   "metadata": {},
   "source": [
    "### Below are a few examples of evaluating arithmetic expressions in Python"
   ]
  },
  {
   "cell_type": "code",
   "execution_count": 4,
   "id": "2da51034-b445-43c0-9be7-8235363c7ddd",
   "metadata": {
    "tags": []
   },
   "outputs": [
    {
     "data": {
      "text/plain": [
       "17"
      ]
     },
     "execution_count": 4,
     "metadata": {},
     "output_type": "execute_result"
    }
   ],
   "source": [
    "### This a simple arithmetic expression to mutiply then add integers\n",
    "(3*4)+5"
   ]
  },
  {
   "cell_type": "code",
   "execution_count": 8,
   "id": "11c2ee39-4e1d-4753-a829-a965435568c1",
   "metadata": {
    "tags": []
   },
   "outputs": [
    {
     "data": {
      "text/plain": [
       "3.3333333333333335"
      ]
     },
     "execution_count": 8,
     "metadata": {},
     "output_type": "execute_result"
    }
   ],
   "source": [
    "### This will convert 200 minutes to hours by diving by 60\n",
    "(200/60)"
   ]
  },
  {
   "cell_type": "markdown",
   "id": "c9755761-2a28-4fee-a07f-821e1a546d37",
   "metadata": {
    "tags": []
   },
   "source": [
    "## Author\n",
    "Rutger Bultman"
   ]
  },
  {
   "cell_type": "code",
   "execution_count": null,
   "id": "08020441-f85b-4070-a2bc-57c4c2446fc0",
   "metadata": {},
   "outputs": [],
   "source": []
  }
 ],
 "metadata": {
  "kernelspec": {
   "display_name": "Python",
   "language": "python",
   "name": "conda-env-python-py"
  },
  "language_info": {
   "codemirror_mode": {
    "name": "ipython",
    "version": 3
   },
   "file_extension": ".py",
   "mimetype": "text/x-python",
   "name": "python",
   "nbconvert_exporter": "python",
   "pygments_lexer": "ipython3",
   "version": "3.7.12"
  }
 },
 "nbformat": 4,
 "nbformat_minor": 5
}
